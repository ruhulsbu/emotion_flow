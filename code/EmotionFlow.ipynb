{
 "cells": [
  {
   "cell_type": "code",
   "execution_count": 2,
   "metadata": {},
   "outputs": [
    {
     "name": "stderr",
     "output_type": "stream",
     "text": [
      "Using Theano backend.\n"
     ]
    },
    {
     "data": {
      "text/plain": [
       "'theano'"
      ]
     },
     "execution_count": 2,
     "metadata": {},
     "output_type": "execute_result"
    }
   ],
   "source": [
    "import keras\n",
    "keras.backend.backend()"
   ]
  },
  {
   "cell_type": "code",
   "execution_count": 4,
   "metadata": {},
   "outputs": [],
   "source": [
    "from sklearn import preprocessing\n",
    "import numpy as np\n",
    "from readers.data_reader import Dataset\n",
    "from experiments.emotion_flow_exp import ExperimentSentimentAttentionMT\n",
    "import sys\n",
    "from sklearn.metrics import f1_score"
   ]
  },
  {
   "cell_type": "code",
   "execution_count": 15,
   "metadata": {},
   "outputs": [],
   "source": [
    "model_root='../models/'\n",
    "\n",
    "model='sf_mt_50_checked_model.hdf5'\n",
    "\n",
    "param={'recurrent_units': 64, 'recurrent_dropout': 0.3, 'recurrent_activation': 'tanh', 'patience': 25, \n",
    "       'lr': 0.001, 'initializer': 'lecun_uniform', 'genre_emb_size': 32, 'epochs': 100, 'dropout_1': 0.2,\n",
    "       'dropout': 0.2, 'batch_size': 1, 'attention_units': 64}"
   ]
  },
  {
   "cell_type": "code",
   "execution_count": 6,
   "metadata": {},
   "outputs": [],
   "source": [
    "feature_lst=['nrc_mean_sd_50_all'] \n",
    "\n",
    "dataset = Dataset(features=feature_lst, label_extractor='success_genre', genre=False)"
   ]
  },
  {
   "cell_type": "code",
   "execution_count": 7,
   "metadata": {},
   "outputs": [],
   "source": [
    "X_train, Y_train = dataset.get_training_data()\n",
    "X_val, Y_val = dataset.get_validaiontion_data()\n",
    "X_test, Y_test = dataset.get_test_data()\n",
    "\n",
    "le = preprocessing.LabelEncoder()\n",
    "\n",
    "Y_train['success_output'] = le.fit_transform(Y_train['success_output'])\n",
    "Y_val['success_output'] = le.transform(Y_val['success_output'])\n",
    "Y_test['success_output'] = le.transform(Y_test['success_output'])\n",
    "\n",
    "Y_test_books=dataset.info['test_books']\n",
    "Y_test_Genre= dataset.info['Y_test'][:,1]"
   ]
  },
  {
   "cell_type": "code",
   "execution_count": 8,
   "metadata": {},
   "outputs": [
    {
     "name": "stdout",
     "output_type": "stream",
     "text": [
      "Feature: nrc_mean_sd_50_all\n",
      "Traning shape nrc_mean_sd_50_all:(555, 50, 20)\n",
      "Val shape nrc_mean_sd_50_all:(139, 50, 20)\n",
      "Test shape nrc_mean_sd_50_all:(290, 50, 20)\n",
      "\n"
     ]
    }
   ],
   "source": [
    "for feature in set(feature_lst) :\n",
    "    print(\"Feature: {}\".format(feature))\n",
    "    print(\"Traning shape {}:{}\".format(feature, X_train[feature].shape))\n",
    "    print(\"Val shape {}:{}\".format(feature, X_val[feature].shape))\n",
    "    print(\"Test shape {}:{}\".format(feature, X_test[feature].shape))\n",
    "    print()"
   ]
  },
  {
   "cell_type": "code",
   "execution_count": 9,
   "metadata": {},
   "outputs": [
    {
     "data": {
      "text/plain": [
       "['24875_lucy+maud+montgomery+short+stories+1904.txt',\n",
       " '26060_complete+version+of+ye+three+blind+mice.txt',\n",
       " '23162_no+great+magic.txt',\n",
       " '1257_the+three+musketeers.txt',\n",
       " '2059_the+little+shepherd+of+kingdom+come.txt']"
      ]
     },
     "execution_count": 9,
     "metadata": {},
     "output_type": "execute_result"
    }
   ],
   "source": [
    "Y_test_books[:5]"
   ]
  },
  {
   "cell_type": "code",
   "execution_count": 10,
   "metadata": {},
   "outputs": [
    {
     "data": {
      "text/plain": [
       "array(['Short_stories', 'Poetry', 'Science_fiction', 'Historical_fiction',\n",
       "       'Historical_fiction'], dtype=object)"
      ]
     },
     "execution_count": 10,
     "metadata": {},
     "output_type": "execute_result"
    }
   ],
   "source": [
    "Y_test_Genre[:5]"
   ]
  },
  {
   "cell_type": "markdown",
   "metadata": {},
   "source": [
    "###  Load model and predict"
   ]
  },
  {
   "cell_type": "code",
   "execution_count": 11,
   "metadata": {},
   "outputs": [],
   "source": [
    "experiment = ExperimentSentimentAttentionMT(train_Xs=X_train, train_Ys=Y_train, val_Xs=X_val, val_Ys=Y_val,\n",
    "                                          test_Xs=X_test,\n",
    "                                          test_Ys=Y_test, le=le,\n",
    "                                          params=param,\n",
    "                                          name='att_MT_')"
   ]
  },
  {
   "cell_type": "code",
   "execution_count": 16,
   "metadata": {},
   "outputs": [
    {
     "name": "stderr",
     "output_type": "stream",
     "text": [
      "/anaconda3/lib/python3.6/site-packages/keras/layers/recurrent.py:1550: UserWarning: RNN dropout is no longer supported with the Theano backend due to technical limitations. You can either set `dropout` and `recurrent_dropout` to 0, or use the TensorFlow backend.\n",
      "  'RNN dropout is no longer supported with the Theano backend '\n"
     ]
    },
    {
     "name": "stdout",
     "output_type": "stream",
     "text": [
      "MT prediction task\n",
      "F1 Weighted Score: 0.6896466217917353\n"
     ]
    }
   ],
   "source": [
    "exp_model_path=model_root+model\n",
    "experiment.predict(checked_model_path=exp_model_path,settings=param)"
   ]
  },
  {
   "cell_type": "code",
   "execution_count": 17,
   "metadata": {},
   "outputs": [
    {
     "name": "stderr",
     "output_type": "stream",
     "text": [
      "/anaconda3/lib/python3.6/site-packages/keras/layers/recurrent.py:1550: UserWarning: RNN dropout is no longer supported with the Theano backend due to technical limitations. You can either set `dropout` and `recurrent_dropout` to 0, or use the TensorFlow backend.\n",
      "  'RNN dropout is no longer supported with the Theano backend '\n"
     ]
    },
    {
     "name": "stdout",
     "output_type": "stream",
     "text": [
      "MT prediction task\n",
      "F1 Weighted Score: 0.6896466217917353\n"
     ]
    }
   ],
   "source": [
    "from keras.models import load_model\n",
    "\n",
    "model=experiment.create_model(param)\n",
    "model.load_weights(exp_model_path)\n",
    "Y_test_pred = model.predict(X_test)\n",
    "if len(Y_test_pred) == 2:\n",
    "    print(\"MT prediction task\")\n",
    "    Y_test_pred = Y_test_pred[0].flatten()\n",
    "Y_test_pred = np.array([1 if y > 0.5 else 0 for y in Y_test_pred])\n",
    "\n",
    "print (\"F1 Weighted Score: {}\".format(f1_score(Y_test['success_output'].flatten(),\n",
    "                                          Y_test_pred.flatten(), average='weighted', pos_label=None)))"
   ]
  },
  {
   "cell_type": "code",
   "execution_count": null,
   "metadata": {},
   "outputs": [],
   "source": []
  }
 ],
 "metadata": {
  "kernelspec": {
   "display_name": "Python 3",
   "language": "python",
   "name": "python3"
  },
  "language_info": {
   "codemirror_mode": {
    "name": "ipython",
    "version": 3
   },
   "file_extension": ".py",
   "mimetype": "text/x-python",
   "name": "python",
   "nbconvert_exporter": "python",
   "pygments_lexer": "ipython3",
   "version": "3.6.5"
  }
 },
 "nbformat": 4,
 "nbformat_minor": 2
}
